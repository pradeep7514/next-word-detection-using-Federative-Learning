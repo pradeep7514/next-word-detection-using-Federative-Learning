{
 "cells": [
  {
   "cell_type": "code",
   "execution_count": 1,
   "id": "9d7375e6",
   "metadata": {},
   "outputs": [],
   "source": [
    "import numpy as np \n",
    "import pandas as pd \n",
    "\n",
    "import re\n",
    "from bs4 import BeautifulSoup\n",
    "from tensorflow.keras.preprocessing.text import Tokenizer"
   ]
  },
  {
   "cell_type": "code",
   "execution_count": 2,
   "id": "59046807",
   "metadata": {
    "scrolled": true
   },
   "outputs": [],
   "source": [
    "with open('text_input.txt', encoding='utf-8') as file:\n",
    "    data = file.read()"
   ]
  },
  {
   "cell_type": "code",
   "execution_count": 3,
   "id": "79d9c040",
   "metadata": {},
   "outputs": [
    {
     "data": {
      "text/plain": [
       "[27, 28, 29, 1, 30, 31, 32, 33, 2, 34, 35, 2, 3, 4, 5]"
      ]
     },
     "execution_count": 3,
     "metadata": {},
     "output_type": "execute_result"
    }
   ],
   "source": [
    "soup=BeautifulSoup(data,'html.parser')#remove html tag using beautifulsoup\n",
    "non_html_text=soup.get_text()\n",
    "    \n",
    "#remove unwanted charectors and symbols\n",
    "text=re.sub('[^a-zA-Z0-9\\s]',' ',non_html_text)\n",
    "text = text.replace('\\n', '').replace('\\r', '').replace('\\ufeff', '')\n",
    "\n",
    "#remove extra spaces\n",
    "z = []\n",
    "for i in text.split():\n",
    "    if i not in z:\n",
    "        z.append(i)  \n",
    "text = ' '.join(z)\n",
    "\n",
    "#tokenize text\n",
    "    \n",
    "tokenizer=Tokenizer()\n",
    "tokenizer.fit_on_texts([text])\n",
    "sequence=tokenizer.texts_to_sequences([text])[0]\n",
    "\n",
    "sequence[:15]"
   ]
  },
  {
   "cell_type": "code",
   "execution_count": 4,
   "id": "a8fec8cb",
   "metadata": {},
   "outputs": [
    {
     "data": {
      "text/plain": [
       "695"
      ]
     },
     "execution_count": 4,
     "metadata": {},
     "output_type": "execute_result"
    }
   ],
   "source": [
    "ip_dim=len(tokenizer.word_index)+1\n",
    "ip_dim"
   ]
  },
  {
   "cell_type": "code",
   "execution_count": 5,
   "id": "4abf663a",
   "metadata": {},
   "outputs": [
    {
     "name": "stdout",
     "output_type": "stream",
     "text": [
      "The Length of sequences are:  717\n"
     ]
    }
   ],
   "source": [
    "#traning sequence\n",
    "\n",
    "sequences = []\n",
    "\n",
    "for i in range(3, len(sequence)):\n",
    "    words = sequence[i-3:i+1]\n",
    "    sequences.append(words)\n",
    "    \n",
    "print(\"The Length of sequences are: \", len(sequences))\n",
    "sequences = np.array(sequences)\n",
    "\n",
    "\n",
    "x,y=[],[]\n",
    "for i in sequences:\n",
    "    x.append(i[0:3])\n",
    "    y.append(i[3])\n",
    "x=np.array(x)\n",
    "y=np.array(y)"
   ]
  },
  {
   "cell_type": "code",
   "execution_count": 6,
   "id": "e60da5f9",
   "metadata": {},
   "outputs": [
    {
     "data": {
      "text/plain": [
       "(array([[27, 28, 29],\n",
       "        [28, 29,  1],\n",
       "        [29,  1, 30],\n",
       "        [ 1, 30, 31],\n",
       "        [30, 31, 32],\n",
       "        [31, 32, 33],\n",
       "        [32, 33,  2],\n",
       "        [33,  2, 34],\n",
       "        [ 2, 34, 35],\n",
       "        [34, 35,  2]]),\n",
       " array([ 1, 30, 31, 32, 33,  2, 34, 35,  2,  3]))"
      ]
     },
     "execution_count": 6,
     "metadata": {},
     "output_type": "execute_result"
    }
   ],
   "source": [
    "x[:10],y[:10]"
   ]
  },
  {
   "cell_type": "code",
   "execution_count": 7,
   "id": "024ba6d0",
   "metadata": {},
   "outputs": [
    {
     "data": {
      "text/plain": [
       "array([[0., 1., 0., ..., 0., 0., 0.],\n",
       "       [0., 0., 0., ..., 0., 0., 0.],\n",
       "       [0., 0., 0., ..., 0., 0., 0.],\n",
       "       ...,\n",
       "       [0., 0., 0., ..., 0., 0., 0.],\n",
       "       [0., 0., 1., ..., 0., 0., 0.],\n",
       "       [0., 0., 0., ..., 0., 0., 0.]], dtype=float32)"
      ]
     },
     "execution_count": 7,
     "metadata": {},
     "output_type": "execute_result"
    }
   ],
   "source": [
    "from tensorflow.keras.preprocessing.sequence import pad_sequences\n",
    "from tensorflow.keras.utils import to_categorical\n",
    "\n",
    "# # # Pad \"sequences\" to a fixed length\n",
    "# max_len = 10\n",
    "# x = pad_sequences(x, maxlen=max_len)\n",
    "# y = pad_sequences(y, maxlen=max_len)\n",
    "\n",
    "# Convert y to categorical\n",
    "\n",
    "y = to_categorical(y, num_classes=ip_dim)\n",
    "y[:10]"
   ]
  },
  {
   "cell_type": "code",
   "execution_count": 8,
   "id": "36f9a635",
   "metadata": {},
   "outputs": [
    {
     "name": "stdout",
     "output_type": "stream",
     "text": [
      "Model: \"sequential\"\n",
      "_________________________________________________________________\n",
      " Layer (type)                Output Shape              Param #   \n",
      "=================================================================\n",
      " embedding (Embedding)       (None, 3, 10)             6950      \n",
      "                                                                 \n",
      " lstm (LSTM)                 (None, 3, 1000)           4044000   \n",
      "                                                                 \n",
      " lstm_1 (LSTM)               (None, 1000)              8004000   \n",
      "                                                                 \n",
      " dense (Dense)               (None, 1000)              1001000   \n",
      "                                                                 \n",
      " dense_1 (Dense)             (None, 695)               695695    \n",
      "                                                                 \n",
      "=================================================================\n",
      "Total params: 13,751,645\n",
      "Trainable params: 13,751,645\n",
      "Non-trainable params: 0\n",
      "_________________________________________________________________\n"
     ]
    }
   ],
   "source": [
    "from tensorflow.keras.models import Sequential\n",
    "from tensorflow.keras.layers import LSTM,Dense,Embedding\n",
    "model=Sequential()\n",
    "model.add(Embedding(ip_dim,10,input_length=3))\n",
    "model.add(LSTM(1000,return_sequences=True))\n",
    "model.add(LSTM(1000))\n",
    "model.add(Dense(1000, activation=\"relu\"))\n",
    "model.add(Dense(ip_dim,activation='softmax'))\n",
    "model.summary()"
   ]
  },
  {
   "cell_type": "code",
   "execution_count": 9,
   "id": "6c62f37a-14a2-49c4-906c-237a895bfcb0",
   "metadata": {},
   "outputs": [],
   "source": [
    "#text"
   ]
  },
  {
   "cell_type": "code",
   "execution_count": 10,
   "id": "b96bd91b",
   "metadata": {},
   "outputs": [],
   "source": [
    "model.compile(loss='categorical_crossentropy',optimizer='adam',metrics=['accuracy'])"
   ]
  },
  {
   "cell_type": "code",
   "execution_count": 11,
   "id": "5c59ec96-ae92-4e57-8786-660126be0cf5",
   "metadata": {},
   "outputs": [
    {
     "name": "stdout",
     "output_type": "stream",
     "text": [
      "Epoch 1/50\n",
      "12/12 [==============================] - 17s 394ms/step - loss: 6.5492 - accuracy: 0.0014\n",
      "Epoch 2/50\n",
      "12/12 [==============================] - 5s 392ms/step - loss: 6.5451 - accuracy: 0.0014\n",
      "Epoch 3/50\n",
      "12/12 [==============================] - 5s 392ms/step - loss: 6.5442 - accuracy: 0.0014\n",
      "Epoch 4/50\n",
      "12/12 [==============================] - 5s 396ms/step - loss: 6.5455 - accuracy: 0.0028\n",
      "Epoch 5/50\n",
      "12/12 [==============================] - 5s 387ms/step - loss: 6.5434 - accuracy: 0.0042\n",
      "Epoch 6/50\n",
      "12/12 [==============================] - 5s 384ms/step - loss: 6.5306 - accuracy: 0.0056\n",
      "Epoch 7/50\n",
      "12/12 [==============================] - 5s 386ms/step - loss: 6.3862 - accuracy: 0.0042\n",
      "Epoch 8/50\n",
      "12/12 [==============================] - 5s 403ms/step - loss: 6.0770 - accuracy: 0.0084\n",
      "Epoch 9/50\n",
      "12/12 [==============================] - 5s 389ms/step - loss: 5.4328 - accuracy: 0.0112\n",
      "Epoch 10/50\n",
      "12/12 [==============================] - 5s 415ms/step - loss: 4.6442 - accuracy: 0.0265\n",
      "Epoch 11/50\n",
      "12/12 [==============================] - 5s 392ms/step - loss: 3.6605 - accuracy: 0.1018\n",
      "Epoch 12/50\n",
      "12/12 [==============================] - 5s 431ms/step - loss: 2.8604 - accuracy: 0.2273\n",
      "Epoch 13/50\n",
      "12/12 [==============================] - 5s 420ms/step - loss: 2.2353 - accuracy: 0.3208\n",
      "Epoch 14/50\n",
      "12/12 [==============================] - 5s 385ms/step - loss: 1.7863 - accuracy: 0.4644\n",
      "Epoch 15/50\n",
      "12/12 [==============================] - 5s 376ms/step - loss: 1.3326 - accuracy: 0.6095\n",
      "Epoch 16/50\n",
      "12/12 [==============================] - 4s 376ms/step - loss: 1.0210 - accuracy: 0.6932\n",
      "Epoch 17/50\n",
      "12/12 [==============================] - 5s 381ms/step - loss: 0.8208 - accuracy: 0.7448\n",
      "Epoch 18/50\n",
      "12/12 [==============================] - 5s 377ms/step - loss: 0.7046 - accuracy: 0.8075\n",
      "Epoch 19/50\n",
      "12/12 [==============================] - 5s 381ms/step - loss: 0.6638 - accuracy: 0.8159\n",
      "Epoch 20/50\n",
      "12/12 [==============================] - 5s 376ms/step - loss: 0.5702 - accuracy: 0.8466\n",
      "Epoch 21/50\n",
      "12/12 [==============================] - 5s 381ms/step - loss: 0.4299 - accuracy: 0.8717\n",
      "Epoch 22/50\n",
      "12/12 [==============================] - 5s 389ms/step - loss: 0.3780 - accuracy: 0.9052\n",
      "Epoch 23/50\n",
      "12/12 [==============================] - 5s 392ms/step - loss: 0.3339 - accuracy: 0.9107\n",
      "Epoch 24/50\n",
      "12/12 [==============================] - 5s 376ms/step - loss: 0.3055 - accuracy: 0.9191\n",
      "Epoch 25/50\n",
      "12/12 [==============================] - 5s 379ms/step - loss: 0.2302 - accuracy: 0.9261\n",
      "Epoch 26/50\n",
      "12/12 [==============================] - 5s 394ms/step - loss: 0.2241 - accuracy: 0.9372\n",
      "Epoch 27/50\n",
      "12/12 [==============================] - 5s 390ms/step - loss: 0.2171 - accuracy: 0.9442\n",
      "Epoch 28/50\n",
      "12/12 [==============================] - 5s 385ms/step - loss: 0.1935 - accuracy: 0.9400\n",
      "Epoch 29/50\n",
      "12/12 [==============================] - 5s 392ms/step - loss: 0.1466 - accuracy: 0.9609\n",
      "Epoch 30/50\n",
      "12/12 [==============================] - 5s 392ms/step - loss: 0.1629 - accuracy: 0.9623\n",
      "Epoch 31/50\n",
      "12/12 [==============================] - 5s 393ms/step - loss: 0.1281 - accuracy: 0.9735\n",
      "Epoch 32/50\n",
      "12/12 [==============================] - 5s 395ms/step - loss: 0.1296 - accuracy: 0.9679\n",
      "Epoch 33/50\n",
      "12/12 [==============================] - 5s 396ms/step - loss: 0.1249 - accuracy: 0.9582\n",
      "Epoch 34/50\n",
      "12/12 [==============================] - 5s 398ms/step - loss: 0.1726 - accuracy: 0.9609\n",
      "Epoch 35/50\n",
      "12/12 [==============================] - 5s 398ms/step - loss: 0.2656 - accuracy: 0.9289\n",
      "Epoch 36/50\n",
      "12/12 [==============================] - 5s 396ms/step - loss: 0.2845 - accuracy: 0.9289\n",
      "Epoch 37/50\n",
      "12/12 [==============================] - 5s 397ms/step - loss: 0.2687 - accuracy: 0.9289\n",
      "Epoch 38/50\n",
      "12/12 [==============================] - 5s 397ms/step - loss: 0.2797 - accuracy: 0.9219\n",
      "Epoch 39/50\n",
      "12/12 [==============================] - 5s 400ms/step - loss: 0.2534 - accuracy: 0.9414\n",
      "Epoch 40/50\n",
      "12/12 [==============================] - 5s 393ms/step - loss: 0.1705 - accuracy: 0.9442\n",
      "Epoch 41/50\n",
      "12/12 [==============================] - 5s 398ms/step - loss: 0.1398 - accuracy: 0.9568\n",
      "Epoch 42/50\n",
      "12/12 [==============================] - 5s 395ms/step - loss: 0.1316 - accuracy: 0.9596\n",
      "Epoch 43/50\n",
      "12/12 [==============================] - 5s 398ms/step - loss: 0.1771 - accuracy: 0.9596\n",
      "Epoch 44/50\n",
      "12/12 [==============================] - 5s 398ms/step - loss: 0.1234 - accuracy: 0.9721\n",
      "Epoch 45/50\n",
      "12/12 [==============================] - 5s 397ms/step - loss: 0.0851 - accuracy: 0.9735\n",
      "Epoch 46/50\n",
      "12/12 [==============================] - 5s 396ms/step - loss: 0.1376 - accuracy: 0.9693\n",
      "Epoch 47/50\n",
      "12/12 [==============================] - 5s 399ms/step - loss: 0.1225 - accuracy: 0.9735\n",
      "Epoch 48/50\n",
      "12/12 [==============================] - 5s 399ms/step - loss: 0.0919 - accuracy: 0.9721\n",
      "Epoch 49/50\n",
      "12/12 [==============================] - 5s 397ms/step - loss: 0.0949 - accuracy: 0.9763\n",
      "Epoch 50/50\n",
      "12/12 [==============================] - 5s 393ms/step - loss: 0.1234 - accuracy: 0.9777\n"
     ]
    }
   ],
   "source": [
    "history = model.fit(x,y,batch_size=62,epochs=50)"
   ]
  },
  {
   "cell_type": "code",
   "execution_count": 12,
   "id": "ef431445-6a2c-48a9-b73f-a0273112efab",
   "metadata": {},
   "outputs": [
    {
     "name": "stdout",
     "output_type": "stream",
     "text": [
      "Test loss: 0.047939930111169815\n",
      "Test accuracy: 0.991631805896759\n"
     ]
    }
   ],
   "source": [
    "model.save('client1.keras')\n",
    "score = model.evaluate(x, y, verbose=0)\n",
    "print('Test loss:', score[0])\n",
    "print('Test accuracy:', score[1])"
   ]
  },
  {
   "cell_type": "code",
   "execution_count": 18,
   "id": "2d34b86c-5c0e-4878-ae4c-78741f0e1b52",
   "metadata": {},
   "outputs": [
    {
     "data": {
      "image/png": "[encoded data removed]",
      "text/plain": [
       "<Figure size 640x480 with 1 Axes>"
      ]
     },
     "metadata": {},
     "output_type": "display_data"
    }
   ],
   "source": [
    "import matplotlib.pyplot as plt\n",
    "\n",
    "# Plotting the accuracy over epochs\n",
    "plt.plot(history.history['accuracy'])\n",
    "plt.title('Model Accuracy over Epochs client 1')\n",
    "plt.xlabel('Epoch')\n",
    "plt.ylabel('Accuracy')\n",
    "plt.show()"
   ]
  },
  {
   "cell_type": "code",
   "execution_count": 14,
   "id": "10a9e574",
   "metadata": {},
   "outputs": [
    {
     "data": {
      "text/plain": [
       "\"import socket\\nimport pickle\\nimport tensorflow as tf\\nfrom sharedconfig import vocab_size, embedding_dim\\nimport numpy as np\\n\\n# Define the server's IP address and port\\nserver_ip = '192.168.94.137'  # Replace with your server's local IP address\\nserver_port = 12347\\n\\n# Create a client socket\\nclient_socket = socket.socket(socket.AF_INET, socket.SOCK_STREAM)\\n\\n# Connect to the server\\nclient_socket.connect((server_ip, server_port))\""
      ]
     },
     "execution_count": 14,
     "metadata": {},
     "output_type": "execute_result"
    }
   ],
   "source": [
    "'''import socket\n",
    "import pickle\n",
    "import tensorflow as tf\n",
    "from sharedconfig import vocab_size, embedding_dim\n",
    "import numpy as np\n",
    "\n",
    "# Define the server's IP address and port\n",
    "server_ip = '192.168.94.137'  # Replace with your server's local IP address\n",
    "server_port = 12347\n",
    "\n",
    "# Create a client socket\n",
    "client_socket = socket.socket(socket.AF_INET, socket.SOCK_STREAM)\n",
    "\n",
    "# Connect to the server\n",
    "client_socket.connect((server_ip, server_port))'''"
   ]
  },
  {
   "cell_type": "code",
   "execution_count": 15,
   "id": "7651c552",
   "metadata": {},
   "outputs": [
    {
     "data": {
      "text/plain": [
       "\"# Get the client's model weights\\nclient_model_weights = model.get_weights()\\n\\n#save the weights\\nmodel.save_weights('l_model1_weights.h5')\\n\\n# Serialize and send the model weights to the server\\nclient_weights_bytes = pickle.dumps(client_model_weights)\\nclient_socket.send(client_weights_bytes)\\n\""
      ]
     },
     "execution_count": 15,
     "metadata": {},
     "output_type": "execute_result"
    }
   ],
   "source": [
    "'''# Get the client's model weights\n",
    "client_model_weights = model.get_weights()\n",
    "\n",
    "#save the weights\n",
    "model.save_weights('l_model1_weights.h5')\n",
    "\n",
    "# Serialize and send the model weights to the server\n",
    "client_weights_bytes = pickle.dumps(client_model_weights)\n",
    "client_socket.send(client_weights_bytes)\n",
    "'''"
   ]
  },
  {
   "cell_type": "code",
   "execution_count": 16,
   "id": "a3ca46af",
   "metadata": {},
   "outputs": [],
   "source": [
    "#print(client_model_weights)"
   ]
  },
  {
   "cell_type": "code",
   "execution_count": 17,
   "id": "6ddc5d42",
   "metadata": {},
   "outputs": [],
   "source": [
    "\n",
    "# Close the client socket\n",
    "#client_socket.close()"
   ]
  }
 ],
 "metadata": {
  "kernelspec": {
   "display_name": "Python 3 (ipykernel)",
   "language": "python",
   "name": "python3"
  },
  "language_info": {
   "codemirror_mode": {
    "name": "ipython",
    "version": 3
   },
   "file_extension": ".py",
   "mimetype": "text/x-python",
   "name": "python",
   "nbconvert_exporter": "python",
   "pygments_lexer": "ipython3",
   "version": "3.10.6"
  }
 },
 "nbformat": 4,
 "nbformat_minor": 5
}
