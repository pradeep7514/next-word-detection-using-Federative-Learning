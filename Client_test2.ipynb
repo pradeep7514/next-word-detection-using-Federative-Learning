{
 "cells": [
  {
   "cell_type": "code",
   "execution_count": 1,
   "id": "9d7375e6",
   "metadata": {},
   "outputs": [],
   "source": [
    "import numpy as np \n",
    "import pandas as pd \n",
    "\n",
    "import re\n",
    "from bs4 import BeautifulSoup\n",
    "from tensorflow.keras.preprocessing.text import Tokenizer"
   ]
  },
  {
   "cell_type": "code",
   "execution_count": 2,
   "id": "59046807",
   "metadata": {
    "scrolled": true
   },
   "outputs": [],
   "source": [
    "with open('text_input.txt', encoding='utf-8') as file:\n",
    "    data = file.read()"
   ]
  },
  {
   "cell_type": "code",
   "execution_count": 3,
   "id": "79d9c040",
   "metadata": {},
   "outputs": [
    {
     "data": {
      "text/plain": [
       "[27, 28, 29, 1, 30, 31, 32, 33, 2, 34, 35, 2, 3, 4, 5]"
      ]
     },
     "execution_count": 3,
     "metadata": {},
     "output_type": "execute_result"
    }
   ],
   "source": [
    "soup=BeautifulSoup(data,'html.parser')#remove html tag using beautifulsoup\n",
    "non_html_text=soup.get_text()\n",
    "    \n",
    "#remove unwanted charectors and symbols\n",
    "text=re.sub('[^a-zA-Z0-9\\s]',' ',non_html_text)\n",
    "text = text.replace('\\n', '').replace('\\r', '').replace('\\ufeff', '')\n",
    "\n",
    "#remove extra spaces\n",
    "z = []\n",
    "for i in text.split():\n",
    "    if i not in z:\n",
    "        z.append(i)  \n",
    "text = ' '.join(z)\n",
    "\n",
    "#tokenize text\n",
    "    \n",
    "tokenizer=Tokenizer()\n",
    "tokenizer.fit_on_texts([text])\n",
    "sequence=tokenizer.texts_to_sequences([text])[0]\n",
    "\n",
    "sequence[:15]"
   ]
  },
  {
   "cell_type": "code",
   "execution_count": 4,
   "id": "a8fec8cb",
   "metadata": {},
   "outputs": [
    {
     "data": {
      "text/plain": [
       "695"
      ]
     },
     "execution_count": 4,
     "metadata": {},
     "output_type": "execute_result"
    }
   ],
   "source": [
    "ip_dim=len(tokenizer.word_index)+1\n",
    "ip_dim"
   ]
  },
  {
   "cell_type": "code",
   "execution_count": 5,
   "id": "4abf663a",
   "metadata": {},
   "outputs": [
    {
     "name": "stdout",
     "output_type": "stream",
     "text": [
      "The Length of sequences are:  717\n"
     ]
    }
   ],
   "source": [
    "#traning sequence\n",
    "\n",
    "sequences = []\n",
    "\n",
    "for i in range(3, len(sequence)):\n",
    "    words = sequence[i-3:i+1]\n",
    "    sequences.append(words)\n",
    "    \n",
    "print(\"The Length of sequences are: \", len(sequences))\n",
    "sequences = np.array(sequences)\n",
    "\n",
    "\n",
    "x,y=[],[]\n",
    "for i in sequences:\n",
    "    x.append(i[0:3])\n",
    "    y.append(i[3])\n",
    "x=np.array(x)\n",
    "y=np.array(y)"
   ]
  },
  {
   "cell_type": "code",
   "execution_count": 6,
   "id": "e60da5f9",
   "metadata": {},
   "outputs": [
    {
     "data": {
      "text/plain": [
       "(array([[27, 28, 29],\n",
       "        [28, 29,  1],\n",
       "        [29,  1, 30],\n",
       "        [ 1, 30, 31],\n",
       "        [30, 31, 32],\n",
       "        [31, 32, 33],\n",
       "        [32, 33,  2],\n",
       "        [33,  2, 34],\n",
       "        [ 2, 34, 35],\n",
       "        [34, 35,  2]]),\n",
       " array([ 1, 30, 31, 32, 33,  2, 34, 35,  2,  3]))"
      ]
     },
     "execution_count": 6,
     "metadata": {},
     "output_type": "execute_result"
    }
   ],
   "source": [
    "x[:10],y[:10]"
   ]
  },
  {
   "cell_type": "code",
   "execution_count": 7,
   "id": "024ba6d0",
   "metadata": {},
   "outputs": [
    {
     "data": {
      "text/plain": [
       "array([[0., 1., 0., ..., 0., 0., 0.],\n",
       "       [0., 0., 0., ..., 0., 0., 0.],\n",
       "       [0., 0., 0., ..., 0., 0., 0.],\n",
       "       ...,\n",
       "       [0., 0., 0., ..., 0., 0., 0.],\n",
       "       [0., 0., 1., ..., 0., 0., 0.],\n",
       "       [0., 0., 0., ..., 0., 0., 0.]], dtype=float32)"
      ]
     },
     "execution_count": 7,
     "metadata": {},
     "output_type": "execute_result"
    }
   ],
   "source": [
    "from tensorflow.keras.preprocessing.sequence import pad_sequences\n",
    "from tensorflow.keras.utils import to_categorical\n",
    "\n",
    "# # # Pad \"sequences\" to a fixed length\n",
    "# max_len = 10\n",
    "# x = pad_sequences(x, maxlen=max_len)\n",
    "# y = pad_sequences(y, maxlen=max_len)\n",
    "\n",
    "# Convert y to categorical\n",
    "\n",
    "y = to_categorical(y, num_classes=ip_dim)\n",
    "y[:10]"
   ]
  },
  {
   "cell_type": "code",
   "execution_count": 8,
   "id": "36f9a635",
   "metadata": {},
   "outputs": [
    {
     "name": "stdout",
     "output_type": "stream",
     "text": [
      "Model: \"sequential\"\n",
      "_________________________________________________________________\n",
      " Layer (type)                Output Shape              Param #   \n",
      "=================================================================\n",
      " embedding (Embedding)       (None, 3, 10)             6950      \n",
      "                                                                 \n",
      " lstm (LSTM)                 (None, 3, 1000)           4044000   \n",
      "                                                                 \n",
      " lstm_1 (LSTM)               (None, 1000)              8004000   \n",
      "                                                                 \n",
      " dense (Dense)               (None, 1000)              1001000   \n",
      "                                                                 \n",
      " dense_1 (Dense)             (None, 695)               695695    \n",
      "                                                                 \n",
      "=================================================================\n",
      "Total params: 13,751,645\n",
      "Trainable params: 13,751,645\n",
      "Non-trainable params: 0\n",
      "_________________________________________________________________\n"
     ]
    }
   ],
   "source": [
    "from tensorflow.keras.models import Sequential\n",
    "from tensorflow.keras.layers import LSTM,Dense,Embedding\n",
    "model=Sequential()\n",
    "model.add(Embedding(ip_dim,10,input_length=3))\n",
    "model.add(LSTM(1000,return_sequences=True))\n",
    "model.add(LSTM(1000))\n",
    "model.add(Dense(1000, activation=\"relu\"))\n",
    "model.add(Dense(ip_dim,activation='softmax'))\n",
    "model.summary()"
   ]
  },
  {
   "cell_type": "code",
   "execution_count": 9,
   "id": "b96bd91b",
   "metadata": {},
   "outputs": [],
   "source": [
    "model.compile(loss='categorical_crossentropy',optimizer='adam',metrics=['accuracy'])"
   ]
  },
  {
   "cell_type": "code",
   "execution_count": 10,
   "id": "cfc9a57d",
   "metadata": {},
   "outputs": [
    {
     "name": "stdout",
     "output_type": "stream",
     "text": [
      "Epoch 1/50\n",
      "12/12 [==============================] - 7s 269ms/step - loss: 6.5489 - accuracy: 0.0000e+00\n",
      "Epoch 2/50\n",
      "12/12 [==============================] - 3s 285ms/step - loss: 6.5453 - accuracy: 0.0014\n",
      "Epoch 3/50\n",
      "12/12 [==============================] - 3s 283ms/step - loss: 6.5446 - accuracy: 0.0042\n",
      "Epoch 4/50\n",
      "12/12 [==============================] - 3s 256ms/step - loss: 6.5452 - accuracy: 0.0028\n",
      "Epoch 5/50\n",
      "12/12 [==============================] - 3s 267ms/step - loss: 6.5435 - accuracy: 0.0042\n",
      "Epoch 6/50\n",
      "12/12 [==============================] - 3s 260ms/step - loss: 6.5336 - accuracy: 0.0028\n",
      "Epoch 7/50\n",
      "12/12 [==============================] - 3s 276ms/step - loss: 6.4102 - accuracy: 0.0056\n",
      "Epoch 8/50\n",
      "12/12 [==============================] - 3s 265ms/step - loss: 6.0369 - accuracy: 0.0112\n",
      "Epoch 9/50\n",
      "12/12 [==============================] - 3s 252ms/step - loss: 5.4729 - accuracy: 0.0098\n",
      "Epoch 10/50\n",
      "12/12 [==============================] - 3s 256ms/step - loss: 4.7440 - accuracy: 0.0321\n",
      "Epoch 11/50\n",
      "12/12 [==============================] - 3s 257ms/step - loss: 3.8899 - accuracy: 0.0697\n",
      "Epoch 12/50\n",
      "12/12 [==============================] - 3s 255ms/step - loss: 3.1624 - accuracy: 0.1478\n",
      "Epoch 13/50\n",
      "12/12 [==============================] - 3s 285ms/step - loss: 2.4582 - accuracy: 0.3264\n",
      "Epoch 14/50\n",
      "12/12 [==============================] - 3s 282ms/step - loss: 1.8202 - accuracy: 0.4603\n",
      "Epoch 15/50\n",
      "12/12 [==============================] - 3s 275ms/step - loss: 1.3525 - accuracy: 0.5955\n",
      "Epoch 16/50\n",
      "12/12 [==============================] - 3s 270ms/step - loss: 1.0008 - accuracy: 0.7099\n",
      "Epoch 17/50\n",
      "12/12 [==============================] - 3s 269ms/step - loss: 0.7496 - accuracy: 0.8020\n",
      "Epoch 18/50\n",
      "12/12 [==============================] - 3s 273ms/step - loss: 0.4732 - accuracy: 0.8717\n",
      "Epoch 19/50\n",
      "12/12 [==============================] - 3s 271ms/step - loss: 0.3908 - accuracy: 0.8954\n",
      "Epoch 20/50\n",
      "12/12 [==============================] - 3s 269ms/step - loss: 0.2596 - accuracy: 0.9233\n",
      "Epoch 21/50\n",
      "12/12 [==============================] - 3s 276ms/step - loss: 0.2946 - accuracy: 0.9163\n",
      "Epoch 22/50\n",
      "12/12 [==============================] - 3s 276ms/step - loss: 0.3204 - accuracy: 0.9163\n",
      "Epoch 23/50\n",
      "12/12 [==============================] - 3s 268ms/step - loss: 0.3438 - accuracy: 0.9010\n",
      "Epoch 24/50\n",
      "12/12 [==============================] - 3s 268ms/step - loss: 0.4565 - accuracy: 0.8842\n",
      "Epoch 25/50\n",
      "12/12 [==============================] - 3s 271ms/step - loss: 0.4547 - accuracy: 0.8619\n",
      "Epoch 26/50\n",
      "12/12 [==============================] - 3s 270ms/step - loss: 0.3253 - accuracy: 0.9149\n",
      "Epoch 27/50\n",
      "12/12 [==============================] - 3s 269ms/step - loss: 0.2666 - accuracy: 0.9303\n",
      "Epoch 28/50\n",
      "12/12 [==============================] - 3s 277ms/step - loss: 0.2380 - accuracy: 0.9372\n",
      "Epoch 29/50\n",
      "12/12 [==============================] - 3s 276ms/step - loss: 0.1841 - accuracy: 0.9540\n",
      "Epoch 30/50\n",
      "12/12 [==============================] - 3s 275ms/step - loss: 0.1854 - accuracy: 0.9498\n",
      "Epoch 31/50\n",
      "12/12 [==============================] - 3s 278ms/step - loss: 0.1468 - accuracy: 0.9596\n",
      "Epoch 32/50\n",
      "12/12 [==============================] - 3s 271ms/step - loss: 0.1635 - accuracy: 0.9651\n",
      "Epoch 33/50\n",
      "12/12 [==============================] - 3s 272ms/step - loss: 0.1596 - accuracy: 0.9609\n",
      "Epoch 34/50\n",
      "12/12 [==============================] - 3s 276ms/step - loss: 0.1397 - accuracy: 0.9735\n",
      "Epoch 35/50\n",
      "12/12 [==============================] - 3s 270ms/step - loss: 0.0766 - accuracy: 0.9805\n",
      "Epoch 36/50\n",
      "12/12 [==============================] - 3s 269ms/step - loss: 0.0646 - accuracy: 0.9777\n",
      "Epoch 37/50\n",
      "12/12 [==============================] - 3s 274ms/step - loss: 0.0920 - accuracy: 0.9888\n",
      "Epoch 38/50\n",
      "12/12 [==============================] - 3s 272ms/step - loss: 0.0726 - accuracy: 0.9847\n",
      "Epoch 39/50\n",
      "12/12 [==============================] - 3s 270ms/step - loss: 0.0984 - accuracy: 0.9791\n",
      "Epoch 40/50\n",
      "12/12 [==============================] - 3s 271ms/step - loss: 0.0702 - accuracy: 0.9847\n",
      "Epoch 41/50\n",
      "12/12 [==============================] - 3s 276ms/step - loss: 0.0256 - accuracy: 0.9916\n",
      "Epoch 42/50\n",
      "12/12 [==============================] - 4s 366ms/step - loss: 0.0288 - accuracy: 0.9930\n",
      "Epoch 43/50\n",
      "12/12 [==============================] - 3s 282ms/step - loss: 0.0126 - accuracy: 0.9972\n",
      "Epoch 44/50\n",
      "12/12 [==============================] - 3s 282ms/step - loss: 0.0061 - accuracy: 0.9986\n",
      "Epoch 45/50\n",
      "12/12 [==============================] - 3s 289ms/step - loss: 0.0136 - accuracy: 0.9958\n",
      "Epoch 46/50\n",
      "12/12 [==============================] - 4s 291ms/step - loss: 0.0077 - accuracy: 0.9972\n",
      "Epoch 47/50\n",
      "12/12 [==============================] - 3s 291ms/step - loss: 0.0048 - accuracy: 0.9986\n",
      "Epoch 48/50\n",
      "12/12 [==============================] - 3s 275ms/step - loss: 0.0082 - accuracy: 0.9972\n",
      "Epoch 49/50\n",
      "12/12 [==============================] - 3s 286ms/step - loss: 0.0116 - accuracy: 0.9972\n",
      "Epoch 50/50\n",
      "12/12 [==============================] - 4s 289ms/step - loss: 0.0061 - accuracy: 0.9972\n"
     ]
    }
   ],
   "source": [
    "history = model.fit(x,y,batch_size=62,epochs=50)"
   ]
  },
  {
   "cell_type": "code",
   "execution_count": 11,
   "id": "0ab599cd-5dfa-4b5f-9ed2-dd74f7453540",
   "metadata": {},
   "outputs": [],
   "source": [
    "model.save('client2.keras')"
   ]
  },
  {
   "cell_type": "code",
   "execution_count": 12,
   "id": "843303af-efff-441b-945c-db1fa1770244",
   "metadata": {},
   "outputs": [
    {
     "name": "stdout",
     "output_type": "stream",
     "text": [
      "Test loss: 0.006302456371486187\n",
      "Test accuracy: 0.9986053109169006\n"
     ]
    }
   ],
   "source": [
    "score = model.evaluate(x, y, verbose=0)\n",
    "print('Test loss:', score[0])\n",
    "print('Test accuracy:', score[1])"
   ]
  },
  {
   "cell_type": "code",
   "execution_count": 22,
   "id": "3c57484e-bb78-42a0-9f73-743719d83278",
   "metadata": {},
   "outputs": [
    {
     "data": {
      "image/png": "[encoded data removed]",
      "text/plain": [
       "<Figure size 640x480 with 1 Axes>"
      ]
     },
     "metadata": {},
     "output_type": "display_data"
    }
   ],
   "source": [
    "import matplotlib.pyplot as plt\n",
    "\n",
    "# Plotting the accuracy over epochs\n",
    "plt.plot(history.history['accuracy'])\n",
    "plt.title('Model Accuracy over Epochs client 2')\n",
    "plt.xlabel('Epoch')\n",
    "plt.ylabel('Accuracy')\n",
    "plt.show()"
   ]
  },
  {
   "cell_type": "code",
   "execution_count": 14,
   "id": "10a9e574",
   "metadata": {},
   "outputs": [
    {
     "data": {
      "text/plain": [
       "\"import socket\\nimport pickle\\nimport tensorflow as tf\\nfrom sharedconfig import vocab_size, embedding_dim\\nimport numpy as np\\n\\n# Define the server's IP address and port\\nserver_ip = '192.168.94.137'  # Replace with your server's local IP address\\nserver_port = 12347\\n\\n# Create a client socket\\nclient_socket = socket.socket(socket.AF_INET, socket.SOCK_STREAM)\\n\\n# Connect to the server\\nclient_socket.connect((server_ip, server_port))\""
      ]
     },
     "execution_count": 14,
     "metadata": {},
     "output_type": "execute_result"
    }
   ],
   "source": [
    "'''import socket\n",
    "import pickle\n",
    "import tensorflow as tf\n",
    "from sharedconfig import vocab_size, embedding_dim\n",
    "import numpy as np\n",
    "\n",
    "# Define the server's IP address and port\n",
    "server_ip = '192.168.94.137'  # Replace with your server's local IP address\n",
    "server_port = 12347\n",
    "\n",
    "# Create a client socket\n",
    "client_socket = socket.socket(socket.AF_INET, socket.SOCK_STREAM)\n",
    "\n",
    "# Connect to the server\n",
    "client_socket.connect((server_ip, server_port))'''"
   ]
  },
  {
   "cell_type": "code",
   "execution_count": 15,
   "id": "7651c552",
   "metadata": {},
   "outputs": [
    {
     "data": {
      "text/plain": [
       "\"# Get the client's model weights\\nclient_model_weights = model.get_weights()\\n\\n#save the weights\\nmodel.save_weights('l_model1_weights.h5')\\n\\n# Serialize and send the model weights to the server\\nclient_weights_bytes = pickle.dumps(client_model_weights)\\nclient_socket.send(client_weights_bytes)\\n\""
      ]
     },
     "execution_count": 15,
     "metadata": {},
     "output_type": "execute_result"
    }
   ],
   "source": [
    "'''# Get the client's model weights\n",
    "client_model_weights = model.get_weights()\n",
    "\n",
    "#save the weights\n",
    "model.save_weights('l_model1_weights.h5')\n",
    "\n",
    "# Serialize and send the model weights to the server\n",
    "client_weights_bytes = pickle.dumps(client_model_weights)\n",
    "client_socket.send(client_weights_bytes)\n",
    "'''"
   ]
  },
  {
   "cell_type": "code",
   "execution_count": 16,
   "id": "a3ca46af",
   "metadata": {},
   "outputs": [],
   "source": [
    "#print(client_model_weights)"
   ]
  },
  {
   "cell_type": "code",
   "execution_count": 17,
   "id": "6ddc5d42",
   "metadata": {},
   "outputs": [],
   "source": [
    "# Close the client socket\n",
    "#client_socket.close()"
   ]
  }
 ],
 "metadata": {
  "kernelspec": {
   "display_name": "Python 3 (ipykernel)",
   "language": "python",
   "name": "python3"
  },
  "language_info": {
   "codemirror_mode": {
    "name": "ipython",
    "version": 3
   },
   "file_extension": ".py",
   "mimetype": "text/x-python",
   "name": "python",
   "nbconvert_exporter": "python",
   "pygments_lexer": "ipython3",
   "version": "3.10.6"
  }
 },
 "nbformat": 4,
 "nbformat_minor": 5
}
