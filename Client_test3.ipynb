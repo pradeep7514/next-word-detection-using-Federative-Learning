{
 "cells": [
  {
   "cell_type": "code",
   "execution_count": 1,
   "id": "9d7375e6",
   "metadata": {},
   "outputs": [],
   "source": [
    "import numpy as np \n",
    "import pandas as pd \n",
    "\n",
    "import re\n",
    "from bs4 import BeautifulSoup\n",
    "from tensorflow.keras.preprocessing.text import Tokenizer"
   ]
  },
  {
   "cell_type": "code",
   "execution_count": 2,
   "id": "59046807",
   "metadata": {
    "scrolled": true
   },
   "outputs": [],
   "source": [
    "with open('text_input.txt', encoding='utf-8') as file:\n",
    "    data = file.read()"
   ]
  },
  {
   "cell_type": "code",
   "execution_count": 3,
   "id": "79d9c040",
   "metadata": {},
   "outputs": [
    {
     "data": {
      "text/plain": [
       "[27, 28, 29, 1, 30, 31, 32, 33, 2, 34, 35, 2, 3, 4, 5]"
      ]
     },
     "execution_count": 3,
     "metadata": {},
     "output_type": "execute_result"
    }
   ],
   "source": [
    "soup=BeautifulSoup(data,'html.parser')#remove html tag using beautifulsoup\n",
    "non_html_text=soup.get_text()\n",
    "    \n",
    "#remove unwanted charectors and symbols\n",
    "text=re.sub('[^a-zA-Z0-9\\s]',' ',non_html_text)\n",
    "text = text.replace('\\n', '').replace('\\r', '').replace('\\ufeff', '')\n",
    "\n",
    "#remove extra spaces\n",
    "z = []\n",
    "for i in text.split():\n",
    "    if i not in z:\n",
    "        z.append(i)  \n",
    "text = ' '.join(z)\n",
    "\n",
    "#tokenize text\n",
    "    \n",
    "tokenizer=Tokenizer()\n",
    "tokenizer.fit_on_texts([text])\n",
    "sequence=tokenizer.texts_to_sequences([text])[0]\n",
    "\n",
    "sequence[:15]"
   ]
  },
  {
   "cell_type": "code",
   "execution_count": 4,
   "id": "a8fec8cb",
   "metadata": {},
   "outputs": [
    {
     "data": {
      "text/plain": [
       "695"
      ]
     },
     "execution_count": 4,
     "metadata": {},
     "output_type": "execute_result"
    }
   ],
   "source": [
    "ip_dim=len(tokenizer.word_index)+1\n",
    "ip_dim"
   ]
  },
  {
   "cell_type": "code",
   "execution_count": 5,
   "id": "4abf663a",
   "metadata": {},
   "outputs": [
    {
     "name": "stdout",
     "output_type": "stream",
     "text": [
      "The Length of sequences are:  717\n"
     ]
    }
   ],
   "source": [
    "#traning sequence\n",
    "\n",
    "sequences = []\n",
    "\n",
    "for i in range(3, len(sequence)):\n",
    "    words = sequence[i-3:i+1]\n",
    "    sequences.append(words)\n",
    "    \n",
    "print(\"The Length of sequences are: \", len(sequences))\n",
    "sequences = np.array(sequences)\n",
    "\n",
    "\n",
    "x,y=[],[]\n",
    "for i in sequences:\n",
    "    x.append(i[0:3])\n",
    "    y.append(i[3])\n",
    "x=np.array(x)\n",
    "y=np.array(y)"
   ]
  },
  {
   "cell_type": "code",
   "execution_count": 6,
   "id": "e60da5f9",
   "metadata": {},
   "outputs": [
    {
     "data": {
      "text/plain": [
       "(array([[27, 28, 29],\n",
       "        [28, 29,  1],\n",
       "        [29,  1, 30],\n",
       "        [ 1, 30, 31],\n",
       "        [30, 31, 32],\n",
       "        [31, 32, 33],\n",
       "        [32, 33,  2],\n",
       "        [33,  2, 34],\n",
       "        [ 2, 34, 35],\n",
       "        [34, 35,  2]]),\n",
       " array([ 1, 30, 31, 32, 33,  2, 34, 35,  2,  3]))"
      ]
     },
     "execution_count": 6,
     "metadata": {},
     "output_type": "execute_result"
    }
   ],
   "source": [
    "x[:10],y[:10]"
   ]
  },
  {
   "cell_type": "code",
   "execution_count": 7,
   "id": "024ba6d0",
   "metadata": {},
   "outputs": [
    {
     "data": {
      "text/plain": [
       "array([[0., 1., 0., ..., 0., 0., 0.],\n",
       "       [0., 0., 0., ..., 0., 0., 0.],\n",
       "       [0., 0., 0., ..., 0., 0., 0.],\n",
       "       ...,\n",
       "       [0., 0., 0., ..., 0., 0., 0.],\n",
       "       [0., 0., 1., ..., 0., 0., 0.],\n",
       "       [0., 0., 0., ..., 0., 0., 0.]], dtype=float32)"
      ]
     },
     "execution_count": 7,
     "metadata": {},
     "output_type": "execute_result"
    }
   ],
   "source": [
    "from tensorflow.keras.preprocessing.sequence import pad_sequences\n",
    "from tensorflow.keras.utils import to_categorical\n",
    "\n",
    "# # # Pad \"sequences\" to a fixed length\n",
    "# max_len = 10\n",
    "# x = pad_sequences(x, maxlen=max_len)\n",
    "# y = pad_sequences(y, maxlen=max_len)\n",
    "\n",
    "# Convert y to categorical\n",
    "\n",
    "y = to_categorical(y, num_classes=ip_dim)\n",
    "y[:10]"
   ]
  },
  {
   "cell_type": "code",
   "execution_count": 8,
   "id": "36f9a635",
   "metadata": {},
   "outputs": [
    {
     "name": "stdout",
     "output_type": "stream",
     "text": [
      "Model: \"sequential\"\n",
      "_________________________________________________________________\n",
      " Layer (type)                Output Shape              Param #   \n",
      "=================================================================\n",
      " embedding (Embedding)       (None, 3, 10)             6950      \n",
      "                                                                 \n",
      " lstm (LSTM)                 (None, 3, 1000)           4044000   \n",
      "                                                                 \n",
      " lstm_1 (LSTM)               (None, 1000)              8004000   \n",
      "                                                                 \n",
      " dense (Dense)               (None, 1000)              1001000   \n",
      "                                                                 \n",
      " dense_1 (Dense)             (None, 695)               695695    \n",
      "                                                                 \n",
      "=================================================================\n",
      "Total params: 13,751,645\n",
      "Trainable params: 13,751,645\n",
      "Non-trainable params: 0\n",
      "_________________________________________________________________\n"
     ]
    }
   ],
   "source": [
    "from tensorflow.keras.models import Sequential\n",
    "from tensorflow.keras.layers import LSTM,Dense,Embedding\n",
    "model=Sequential()\n",
    "model.add(Embedding(ip_dim,10,input_length=3))\n",
    "model.add(LSTM(1000,return_sequences=True))\n",
    "model.add(LSTM(1000))\n",
    "model.add(Dense(1000, activation=\"relu\"))\n",
    "model.add(Dense(ip_dim,activation='softmax'))\n",
    "model.summary()"
   ]
  },
  {
   "cell_type": "code",
   "execution_count": 9,
   "id": "b96bd91b",
   "metadata": {},
   "outputs": [],
   "source": [
    "model.compile(loss='categorical_crossentropy',optimizer='adam',metrics=['accuracy'])"
   ]
  },
  {
   "cell_type": "code",
   "execution_count": 18,
   "id": "cfc9a57d",
   "metadata": {},
   "outputs": [
    {
     "name": "stdout",
     "output_type": "stream",
     "text": [
      "Epoch 1/50\n",
      "12/12 [==============================] - 3s 254ms/step - loss: 6.5451 - accuracy: 0.0014\n",
      "Epoch 2/50\n",
      "12/12 [==============================] - 3s 258ms/step - loss: 6.5444 - accuracy: 0.0042\n",
      "Epoch 3/50\n",
      "12/12 [==============================] - 3s 266ms/step - loss: 6.5446 - accuracy: 0.0028\n",
      "Epoch 4/50\n",
      "12/12 [==============================] - 3s 255ms/step - loss: 6.5436 - accuracy: 0.0042\n",
      "Epoch 5/50\n",
      "12/12 [==============================] - 3s 253ms/step - loss: 6.5350 - accuracy: 0.0042\n",
      "Epoch 6/50\n",
      "12/12 [==============================] - 3s 251ms/step - loss: 6.3966 - accuracy: 0.0028\n",
      "Epoch 7/50\n",
      "12/12 [==============================] - 3s 249ms/step - loss: 5.8649 - accuracy: 0.0070\n",
      "Epoch 8/50\n",
      "12/12 [==============================] - 3s 248ms/step - loss: 5.1117 - accuracy: 0.0098\n",
      "Epoch 9/50\n",
      "12/12 [==============================] - 3s 258ms/step - loss: 4.4955 - accuracy: 0.0307\n",
      "Epoch 10/50\n",
      "12/12 [==============================] - 3s 249ms/step - loss: 4.0061 - accuracy: 0.0558\n",
      "Epoch 11/50\n",
      "12/12 [==============================] - 3s 259ms/step - loss: 3.5002 - accuracy: 0.0990\n",
      "Epoch 12/50\n",
      "12/12 [==============================] - 3s 252ms/step - loss: 2.9791 - accuracy: 0.1688\n",
      "Epoch 13/50\n",
      "12/12 [==============================] - 3s 251ms/step - loss: 2.7301 - accuracy: 0.2050\n",
      "Epoch 14/50\n",
      "12/12 [==============================] - 3s 261ms/step - loss: 2.3584 - accuracy: 0.2887\n",
      "Epoch 15/50\n",
      "12/12 [==============================] - 3s 260ms/step - loss: 1.8893 - accuracy: 0.4031\n",
      "Epoch 16/50\n",
      "12/12 [==============================] - 3s 270ms/step - loss: 1.5062 - accuracy: 0.5453\n",
      "Epoch 17/50\n",
      "12/12 [==============================] - 3s 268ms/step - loss: 1.2686 - accuracy: 0.6179\n",
      "Epoch 18/50\n",
      "12/12 [==============================] - 3s 266ms/step - loss: 1.2015 - accuracy: 0.6165\n",
      "Epoch 19/50\n",
      "12/12 [==============================] - 3s 267ms/step - loss: 1.0940 - accuracy: 0.6639\n",
      "Epoch 20/50\n",
      "12/12 [==============================] - 3s 268ms/step - loss: 0.8796 - accuracy: 0.7336\n",
      "Epoch 21/50\n",
      "12/12 [==============================] - 3s 267ms/step - loss: 0.6838 - accuracy: 0.8075\n",
      "Epoch 22/50\n",
      "12/12 [==============================] - 3s 271ms/step - loss: 0.5274 - accuracy: 0.8452\n",
      "Epoch 23/50\n",
      "12/12 [==============================] - 3s 272ms/step - loss: 0.5222 - accuracy: 0.8466\n",
      "Epoch 24/50\n",
      "12/12 [==============================] - 3s 270ms/step - loss: 0.4485 - accuracy: 0.8647\n",
      "Epoch 25/50\n",
      "12/12 [==============================] - 3s 282ms/step - loss: 0.4344 - accuracy: 0.8759\n",
      "Epoch 26/50\n",
      "12/12 [==============================] - 3s 275ms/step - loss: 0.4359 - accuracy: 0.8703\n",
      "Epoch 27/50\n",
      "12/12 [==============================] - 3s 273ms/step - loss: 0.4490 - accuracy: 0.8661\n",
      "Epoch 28/50\n",
      "12/12 [==============================] - 3s 288ms/step - loss: 0.4283 - accuracy: 0.8633\n",
      "Epoch 29/50\n",
      "12/12 [==============================] - 4s 318ms/step - loss: 0.4085 - accuracy: 0.8828\n",
      "Epoch 30/50\n",
      "12/12 [==============================] - 4s 317ms/step - loss: 0.4117 - accuracy: 0.8717\n",
      "Epoch 31/50\n",
      "12/12 [==============================] - 4s 330ms/step - loss: 0.4791 - accuracy: 0.8675\n",
      "Epoch 32/50\n",
      "12/12 [==============================] - 4s 289ms/step - loss: 0.4352 - accuracy: 0.8731\n",
      "Epoch 33/50\n",
      "12/12 [==============================] - 3s 290ms/step - loss: 0.4345 - accuracy: 0.8926\n",
      "Epoch 34/50\n",
      "12/12 [==============================] - 3s 288ms/step - loss: 0.3947 - accuracy: 0.8898\n",
      "Epoch 35/50\n",
      "12/12 [==============================] - 4s 314ms/step - loss: 0.3598 - accuracy: 0.9038\n",
      "Epoch 36/50\n",
      "12/12 [==============================] - 4s 316ms/step - loss: 0.2721 - accuracy: 0.9121\n",
      "Epoch 37/50\n",
      "12/12 [==============================] - 3s 271ms/step - loss: 0.2117 - accuracy: 0.9372\n",
      "Epoch 38/50\n",
      "12/12 [==============================] - 3s 271ms/step - loss: 0.1690 - accuracy: 0.9582\n",
      "Epoch 39/50\n",
      "12/12 [==============================] - 3s 270ms/step - loss: 0.1215 - accuracy: 0.9721\n",
      "Epoch 40/50\n",
      "12/12 [==============================] - 3s 266ms/step - loss: 0.0933 - accuracy: 0.9791\n",
      "Epoch 41/50\n",
      "12/12 [==============================] - 3s 266ms/step - loss: 0.0426 - accuracy: 0.9930\n",
      "Epoch 42/50\n",
      "12/12 [==============================] - 3s 267ms/step - loss: 0.0604 - accuracy: 0.9888\n",
      "Epoch 43/50\n",
      "12/12 [==============================] - 3s 267ms/step - loss: 0.0818 - accuracy: 0.9874\n",
      "Epoch 44/50\n",
      "12/12 [==============================] - 3s 265ms/step - loss: 0.0798 - accuracy: 0.9833\n",
      "Epoch 45/50\n",
      "12/12 [==============================] - 3s 265ms/step - loss: 0.0515 - accuracy: 0.9861\n",
      "Epoch 46/50\n",
      "12/12 [==============================] - 3s 266ms/step - loss: 0.0766 - accuracy: 0.9735\n",
      "Epoch 47/50\n",
      "12/12 [==============================] - 3s 265ms/step - loss: 0.0915 - accuracy: 0.9791\n",
      "Epoch 48/50\n",
      "12/12 [==============================] - 3s 283ms/step - loss: 0.1182 - accuracy: 0.9777\n",
      "Epoch 49/50\n",
      "12/12 [==============================] - 3s 287ms/step - loss: 0.0806 - accuracy: 0.9791\n",
      "Epoch 50/50\n",
      "12/12 [==============================] - 3s 290ms/step - loss: 0.0823 - accuracy: 0.9791\n"
     ]
    }
   ],
   "source": [
    "history = model.fit(x,y,batch_size=62,epochs=50)"
   ]
  },
  {
   "cell_type": "code",
   "execution_count": 19,
   "id": "0ab599cd-5dfa-4b5f-9ed2-dd74f7453540",
   "metadata": {},
   "outputs": [],
   "source": [
    "model.save('client3.keras')"
   ]
  },
  {
   "cell_type": "code",
   "execution_count": 20,
   "id": "4d8e3c67-299a-4ace-af39-7b9e30bd9fbe",
   "metadata": {},
   "outputs": [
    {
     "name": "stdout",
     "output_type": "stream",
     "text": [
      "Test loss: 0.06999636441469193\n",
      "Test accuracy: 0.9832636117935181\n"
     ]
    }
   ],
   "source": [
    "score = model.evaluate(x, y, verbose=0)\n",
    "print('Test loss:', score[0])\n",
    "print('Test accuracy:', score[1])"
   ]
  },
  {
   "cell_type": "code",
   "execution_count": 22,
   "id": "e938ee88-1bc5-404f-8ac5-9a044d89e360",
   "metadata": {},
   "outputs": [
    {
     "data": {
      "image/png": "[encoded data removed]",
      "text/plain": [
       "<Figure size 640x480 with 1 Axes>"
      ]
     },
     "metadata": {},
     "output_type": "display_data"
    }
   ],
   "source": [
    "import matplotlib.pyplot as plt\n",
    "\n",
    "# Plotting the accuracy over epochs\n",
    "plt.plot(history.history['accuracy'])\n",
    "plt.title('Model Accuracy over Epochs client 3')\n",
    "plt.xlabel('Epoch')\n",
    "plt.ylabel('Accuracy')\n",
    "plt.show()"
   ]
  },
  {
   "cell_type": "code",
   "execution_count": 14,
   "id": "10a9e574",
   "metadata": {},
   "outputs": [
    {
     "data": {
      "text/plain": [
       "\"import socket\\nimport pickle\\nimport tensorflow as tf\\nfrom sharedconfig import vocab_size, embedding_dim\\nimport numpy as np\\n\\n# Define the server's IP address and port\\nserver_ip = '192.168.94.137'  # Replace with your server's local IP address\\nserver_port = 12347\\n\\n# Create a client socket\\nclient_socket = socket.socket(socket.AF_INET, socket.SOCK_STREAM)\\n\\n# Connect to the server\\nclient_socket.connect((server_ip, server_port))\""
      ]
     },
     "execution_count": 14,
     "metadata": {},
     "output_type": "execute_result"
    }
   ],
   "source": [
    "'''import socket\n",
    "import pickle\n",
    "import tensorflow as tf\n",
    "from sharedconfig import vocab_size, embedding_dim\n",
    "import numpy as np\n",
    "\n",
    "# Define the server's IP address and port\n",
    "server_ip = '192.168.94.137'  # Replace with your server's local IP address\n",
    "server_port = 12347\n",
    "\n",
    "# Create a client socket\n",
    "client_socket = socket.socket(socket.AF_INET, socket.SOCK_STREAM)\n",
    "\n",
    "# Connect to the server\n",
    "client_socket.connect((server_ip, server_port))'''"
   ]
  },
  {
   "cell_type": "code",
   "execution_count": 15,
   "id": "7651c552",
   "metadata": {},
   "outputs": [
    {
     "data": {
      "text/plain": [
       "\"# Get the client's model weights\\nclient_model_weights = model.get_weights()\\n\\n#save the weights\\nmodel.save_weights('l_model1_weights.h5')\\n\\n# Serialize and send the model weights to the server\\nclient_weights_bytes = pickle.dumps(client_model_weights)\\nclient_socket.send(client_weights_bytes)\\n\""
      ]
     },
     "execution_count": 15,
     "metadata": {},
     "output_type": "execute_result"
    }
   ],
   "source": [
    "'''# Get the client's model weights\n",
    "client_model_weights = model.get_weights()\n",
    "\n",
    "#save the weights\n",
    "model.save_weights('l_model1_weights.h5')\n",
    "\n",
    "# Serialize and send the model weights to the server\n",
    "client_weights_bytes = pickle.dumps(client_model_weights)\n",
    "client_socket.send(client_weights_bytes)\n",
    "'''"
   ]
  },
  {
   "cell_type": "code",
   "execution_count": 16,
   "id": "a3ca46af",
   "metadata": {},
   "outputs": [],
   "source": [
    "#print(client_model_weights)"
   ]
  },
  {
   "cell_type": "code",
   "execution_count": 17,
   "id": "6ddc5d42",
   "metadata": {},
   "outputs": [],
   "source": [
    "# Close the client socket\n",
    "#client_socket.close()"
   ]
  }
 ],
 "metadata": {
  "kernelspec": {
   "display_name": "Python 3 (ipykernel)",
   "language": "python",
   "name": "python3"
  },
  "language_info": {
   "codemirror_mode": {
    "name": "ipython",
    "version": 3
   },
   "file_extension": ".py",
   "mimetype": "text/x-python",
   "name": "python",
   "nbconvert_exporter": "python",
   "pygments_lexer": "ipython3",
   "version": "3.10.6"
  }
 },
 "nbformat": 4,
 "nbformat_minor": 5
}
